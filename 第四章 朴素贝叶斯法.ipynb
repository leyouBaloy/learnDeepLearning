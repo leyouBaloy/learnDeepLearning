{
 "cells": [
  {
   "cell_type": "markdown",
   "metadata": {},
   "source": [
    "第四章作业\n",
    "1. 编程实现例4.1\n",
    "2. 编程实现例4.2"
   ]
  },
  {
   "cell_type": "code",
   "execution_count": 2,
   "metadata": {},
   "outputs": [],
   "source": [
    "import numpy as np"
   ]
  },
  {
   "cell_type": "code",
   "execution_count": 4,
   "metadata": {},
   "outputs": [],
   "source": [
    "X_train = np.array([[1, 'S'], [1, 'M'], [1, 'M'], [1, 'S'],  [1, 'S'],\n",
    "               [2, 'S'], [2, 'M'], [2, 'M'], [2, 'L'],  [2, 'L'],\n",
    "               [3, 'L'], [3, 'M'], [3, 'M'], [3, 'L'],  [3, 'L']])\n",
    "Y_train = np.array([-1, -1, 1, 1, -1, -1, -1, 1, 1, 1, 1, 1, 1, 1, -1])"
   ]
  },
  {
   "cell_type": "code",
   "execution_count": 20,
   "metadata": {},
   "outputs": [
    {
     "name": "stdout",
     "output_type": "stream",
     "text": [
      "先验概率为[y=1,y=-1], [0.6 0.4]\n"
     ]
    }
   ],
   "source": [
    "# 计算先验概率\n",
    "priori_probablity = np.array([np.sum(Y_train==1)/len(Y_train), np.sum(Y_train==-1)/len(Y_train)])\n",
    "print(f\"先验概率为[y=1,y=-1], {priori_probablity}\")"
   ]
  },
  {
   "cell_type": "code",
   "execution_count": 52,
   "metadata": {},
   "outputs": [],
   "source": [
    "# 计算条件概率\n",
    "# 条件概率矩阵为2x3x2\n",
    "# 第一个维度是X(1)和X(2)\n",
    "# 第二个维度是1,2,3和S,M,L\n",
    "# 第三个维度是Y=1,-1\n",
    "posteriori_probablity = np.zeros([2,3,2]) #初始化条件概率矩阵\n",
    "feature1 = [[\"1\", \"2\", \"3\"], [\"S\", \"M\", \"L\"]]\n",
    "feature2 = [1, -1]\n",
    "for i in range(2):\n",
    "    for j in range(3):\n",
    "        for k in range(2):\n",
    "            fenmu = np.sum(Y_train==feature2[k]) #例如y=1的时候，分母为9\n",
    "            tiaojian = X_train[np.argwhere(Y_train==feature2[k]).reshape(-1)] #例如筛选出所有y=1的点\n",
    "            fenzi = np.sum(tiaojian[:,i]==feature1[i][j])\n",
    "            posteriori_probablity[i][j][k] = fenzi/fenmu"
   ]
  },
  {
   "cell_type": "code",
   "execution_count": 79,
   "metadata": {},
   "outputs": [],
   "source": [
    "def predict(X):\n",
    "    # 对应条件矩阵的位置\n",
    "    ax1 = np.argwhere(np.array(feature1[0])==X[0])[0][0]\n",
    "    ax2 = np.argwhere(np.array(feature1[1])==X[1])[0][0]\n",
    "\n",
    "    p1 = priori_probablity[0]*posteriori_probablity[0][ax1][0]*posteriori_probablity[1][ax2][0]\n",
    "    p2 = priori_probablity[1]*posteriori_probablity[0][ax1][1]*posteriori_probablity[1][ax2][1]\n",
    "    print(f\"当y=1的可能性：{p1}\")\n",
    "    print(f\"当y=2的可能性：{p2}\")\n",
    "    "
   ]
  },
  {
   "cell_type": "code",
   "execution_count": 80,
   "metadata": {},
   "outputs": [
    {
     "name": "stdout",
     "output_type": "stream",
     "text": [
      "当y=1的可能性：0.02222222222222222\n",
      "当y=2的可能性：0.06666666666666667\n"
     ]
    }
   ],
   "source": [
    "predict([\"2\", \"S\"])"
   ]
  }
 ],
 "metadata": {
  "kernelspec": {
   "display_name": "Python 3",
   "language": "python",
   "name": "python3"
  },
  "language_info": {
   "codemirror_mode": {
    "name": "ipython",
    "version": 3
   },
   "file_extension": ".py",
   "mimetype": "text/x-python",
   "name": "python",
   "nbconvert_exporter": "python",
   "pygments_lexer": "ipython3",
   "version": "3.8.5"
  }
 },
 "nbformat": 4,
 "nbformat_minor": 4
}
