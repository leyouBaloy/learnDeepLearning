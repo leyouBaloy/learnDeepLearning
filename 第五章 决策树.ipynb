{
 "cells": [
  {
   "cell_type": "markdown",
   "metadata": {},
   "source": [
    "第五章作业\n",
    "编程实现\n",
    "1. 例5.3，ID3算法\n",
    "2. 例5.3，c4.5算法\n",
    "3. 例5.4，cart分类树\n",
    "4. 习题5.2 cart回归树"
   ]
  },
  {
   "cell_type": "markdown",
   "metadata": {},
   "source": [
    "# 1.例5.3，ID3算法\n",
    "参考代码：https://blog.csdn.net/GrinAndBearIt/article/details/79094079\n",
    "把很多用python的操作重构成了numpy函数"
   ]
  },
  {
   "cell_type": "code",
   "execution_count": 149,
   "metadata": {},
   "outputs": [],
   "source": [
    "import numpy as np\n",
    "dataset = np.array([['青年', '否', '否', '一般', '否'],\n",
    "               ['青年', '否', '否', '好', '否'],\n",
    "               ['青年', '是', '否', '好', '是'],\n",
    "               ['青年', '是', '是', '一般', '是'],\n",
    "               ['青年', '否', '否', '一般', '否'],\n",
    "               ['中年', '否', '否', '一般', '否'],\n",
    "               ['中年', '否', '否', '好', '否'],\n",
    "               ['中年', '是', '是', '好', '是'],\n",
    "               ['中年', '否', '是', '非常好', '是'],\n",
    "               ['中年', '否', '是', '非常好', '是'],\n",
    "               ['老年', '否', '是', '非常好', '是'],\n",
    "               ['老年', '否', '是', '好', '是'],\n",
    "               ['老年', '是', '否', '好', '是'],\n",
    "               ['老年', '是', '否', '非常好', '是'],\n",
    "               ['老年', '否', '否', '一般', '否']])\n",
    "labels = ['年龄', '有工作', '有自己的房子', '信贷情况']"
   ]
  },
  {
   "cell_type": "code",
   "execution_count": 139,
   "metadata": {},
   "outputs": [],
   "source": [
    "# 计算训练集的信息熵\n",
    "import math\n",
    "def calcInfoEntropy(dataset):\n",
    "    unique_labels = np.unique(dataset[:,-1])\n",
    "    sum_entropy = 0\n",
    "    for i in range(len(unique_labels)):\n",
    "        p = sum(dataset[:,-1]==unique_labels[i]) / len(dataset)\n",
    "        sum_entropy -= p*math.log(p, 2)\n",
    "#     print(f\"训练集的信息熵：{sum_entropy}\")\n",
    "    return sum_entropy"
   ]
  },
  {
   "cell_type": "code",
   "execution_count": 140,
   "metadata": {},
   "outputs": [],
   "source": [
    "# 根据某个特征划分数据集\n",
    "# 即截取dataset中第i个特征为value的数据\n",
    "def splitDataSet(dataset, i, value):\n",
    "    tmp = dataset[dataset[:,i]==value]\n",
    "    if i==0:\n",
    "        return tmp[:,1:]\n",
    "    elif i==dataset.shape[1]-1:\n",
    "        return tmp[:,:i]\n",
    "    else:\n",
    "        return np.hstack((tmp[:,:i],tmp[:,i+1:]))"
   ]
  },
  {
   "cell_type": "code",
   "execution_count": 141,
   "metadata": {},
   "outputs": [],
   "source": [
    "# 计算根据某个特征划分后的信息增益\n",
    "def calcDivided(dataset, i):\n",
    "    base_entropy = calcInfoEntropy(dataset)\n",
    "    unique_values = np.unique(dataset[:,i])\n",
    "    new_entropy = 0\n",
    "    for value in unique_values:\n",
    "        divided_dataset = splitDataSet(dataset, i, value)\n",
    "        new_entropy += (len(divided_dataset)/dataset.shape[0])*calcInfoEntropy(divided_dataset)\n",
    "    print(f\"信息增益{base_entropy - new_entropy}\")\n",
    "    return base_entropy - new_entropy"
   ]
  },
  {
   "cell_type": "code",
   "execution_count": 142,
   "metadata": {},
   "outputs": [],
   "source": [
    "# 寻找最大信息增益的特征\n",
    "def findBestFeatures(dataset):\n",
    "    m, n = dataset.shape\n",
    "    bestInfoDivided = 0\n",
    "    bestValue = 0\n",
    "    for i in range(n-1):\n",
    "        curInfoDivided = calcDivided(dataset, i)\n",
    "        if curInfoDivided > bestInfoDivided:\n",
    "            bestInfoDivided = curInfoDivided\n",
    "            bestValue = i\n",
    "    return bestValue"
   ]
  },
  {
   "cell_type": "code",
   "execution_count": 143,
   "metadata": {},
   "outputs": [],
   "source": [
    "def maxResult(resultList):\n",
    "    calcNumDict=dict([(np.sum(resultList==result),result) for result in resultList])\n",
    "    return calcNumDict[max(calcNumDict.keys())]"
   ]
  },
  {
   "cell_type": "code",
   "execution_count": 144,
   "metadata": {},
   "outputs": [],
   "source": [
    "def createTree(dataset, labels):\n",
    "    resultList = dataset[:,-1]\n",
    "    if dataset.shape[0] == 1:    #如果只剩一个元素\n",
    "        return maxResult(resultList)\n",
    "    if sum(resultList==resultList[0]) == resultList.shape[0]:   #如果剩下的全属于同一类\n",
    "        return resultList[0]\n",
    "    bestFeature = findBestFeatures(dataset)\n",
    "#     print(f\"bestFeature:{bestFeature}\")\n",
    "    bestLabel = labels[bestFeature]\n",
    "    tree = {bestLabel:{}}\n",
    "    print(f\"最佳特征:{bestLabel}\")\n",
    "    del(labels[bestFeature])\n",
    "    uniqueValues = set([data[bestFeature] for data in dataset])\n",
    "    for value in uniqueValues:\n",
    "        returnDataSet = splitDataSet(dataset, bestFeature, value)\n",
    "        subLabels = labels[:]\n",
    "        subTree = createTree(returnDataSet, subLabels)\n",
    "        tree[bestLabel][value] = subTree\n",
    "    return tree"
   ]
  },
  {
   "cell_type": "code",
   "execution_count": 146,
   "metadata": {},
   "outputs": [
    {
     "name": "stdout",
     "output_type": "stream",
     "text": [
      "信息增益0.08300749985576883\n",
      "信息增益0.32365019815155627\n",
      "信息增益0.4199730940219749\n",
      "信息增益0.36298956253708536\n",
      "最佳特征:有自己的房子\n",
      "信息增益0.2516291673878229\n",
      "信息增益0.9182958340544896\n",
      "信息增益0.47385138961004514\n",
      "最佳特征:有工作\n",
      "{'有自己的房子': {'否': {'有工作': {'否': '否', '是': '是'}}, '是': '是'}}\n"
     ]
    }
   ],
   "source": [
    "print(createTree(dataset, labels))"
   ]
  },
  {
   "cell_type": "markdown",
   "metadata": {},
   "source": [
    "# 2.例5.3，c4.5算法"
   ]
  },
  {
   "cell_type": "code",
   "execution_count": 147,
   "metadata": {},
   "outputs": [],
   "source": [
    "# 将信息增益换成信息增益比\n",
    "def calcDivided(dataset, i):\n",
    "    base_entropy = calcInfoEntropy(dataset)\n",
    "    unique_values = np.unique(dataset[:,i])\n",
    "    new_entropy = 0\n",
    "    for value in unique_values:\n",
    "        divided_dataset = splitDataSet(dataset, i, value)\n",
    "        new_entropy += (len(divided_dataset)/dataset.shape[0])*calcInfoEntropy(divided_dataset)\n",
    "    print(f\"信息增益{new_entropy/base_entropy}\")\n",
    "    return new_entropy/base_entropy"
   ]
  },
  {
   "cell_type": "code",
   "execution_count": 150,
   "metadata": {},
   "outputs": [
    {
     "name": "stdout",
     "output_type": "stream",
     "text": [
      "信息增益0.9145090385341493\n",
      "信息增益0.6666666666666666\n",
      "信息增益0.5674619322336875\n",
      "信息增益0.6261503266899411\n",
      "最佳特征:年龄\n",
      "信息增益0.0\n",
      "信息增益0.6684402927131713\n",
      "信息增益0.979429340549307\n",
      "最佳特征:信贷情况\n",
      "信息增益0.0\n",
      "信息增益0.0\n",
      "最佳特征:有工作\n",
      "信息增益0.0\n",
      "信息增益1.0\n",
      "最佳特征:有自己的房子\n",
      "信息增益0.0\n",
      "最佳特征:有工作\n",
      "信息增益0.7632027404594346\n",
      "信息增益0.7632027404594346\n",
      "信息增益0.0\n",
      "最佳特征:有工作\n",
      "信息增益0.0\n",
      "信息增益0.0\n",
      "最佳特征:有自己的房子\n",
      "信息增益0.8239348166312392\n",
      "信息增益0.0\n",
      "信息增益0.4119674083156196\n",
      "最佳特征:有工作\n",
      "信息增益0.0\n",
      "信息增益0.0\n",
      "最佳特征:有自己的房子\n",
      "{'年龄': {'青年': {'信贷情况': {'一般': {'有工作': {'否': '否', '是': '是'}}, '好': {'有自己的房子': {'否': {'有工作': {'否': '否', '是': '是'}}}}}}, '老年': {'有工作': {'否': {'有自己的房子': {'是': '是', '否': '否'}}, '是': '是'}}, '中年': {'有工作': {'否': {'有自己的房子': {'否': '否', '是': '是'}}, '是': '是'}}}}\n"
     ]
    }
   ],
   "source": [
    "print(createTree(dataset, labels))"
   ]
  },
  {
   "cell_type": "markdown",
   "metadata": {},
   "source": [
    "# 3.例5.4，cart分类树"
   ]
  },
  {
   "cell_type": "code",
   "execution_count": null,
   "metadata": {},
   "outputs": [],
   "source": []
  }
 ],
 "metadata": {
  "kernelspec": {
   "display_name": "Python 3",
   "language": "python",
   "name": "python3"
  },
  "language_info": {
   "codemirror_mode": {
    "name": "ipython",
    "version": 3
   },
   "file_extension": ".py",
   "mimetype": "text/x-python",
   "name": "python",
   "nbconvert_exporter": "python",
   "pygments_lexer": "ipython3",
   "version": "3.8.5"
  }
 },
 "nbformat": 4,
 "nbformat_minor": 4
}
