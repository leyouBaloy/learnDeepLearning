{
 "cells": [
  {
   "cell_type": "code",
   "execution_count": 97,
   "metadata": {},
   "outputs": [
    {
     "data": {
      "text/plain": [
       "array([[2, 3],\n",
       "       [5, 4],\n",
       "       [9, 6],\n",
       "       [4, 7],\n",
       "       [8, 1],\n",
       "       [7, 2]])"
      ]
     },
     "execution_count": 97,
     "metadata": {},
     "output_type": "execute_result"
    }
   ],
   "source": [
    "#读取数据\n",
    "import numpy as np\n",
    "from matplotlib import pyplot as plt\n",
    "with open(\"./data/example3.1.csv\") as f:\n",
    "    lines = f.readlines()\n",
    "    data = np.array([[int(j) for j in i.replace(\"\\n\",\"\").split(\",\")] for i in lines])\n",
    "data"
   ]
  },
  {
   "cell_type": "code",
   "execution_count": 85,
   "metadata": {},
   "outputs": [],
   "source": [
    "#定义“节点”类，和“树”类\n",
    "class Node(object): \n",
    "    \"\"\"\n",
    "    定义节点类：\n",
    "    val：节点中的实例点\n",
    "    dim：当前节点的分割维度\n",
    "    left：节点的左子树\n",
    "    right：节点的右子树\n",
    "    parent：节点的父节点\n",
    "    \"\"\"\n",
    "    def __init__(self,val=None,dim=None,left=None,right=None,parent=None):\n",
    "        self.val = val\n",
    "        self.dim = dim\n",
    "        self.left = left\n",
    "        self.right = right\n",
    "        self.parent = parent\n",
    "\n",
    "class kdTree(object):\n",
    "    \"\"\"\n",
    "    定义树类：\n",
    "    dataNum：训练集的样本数量\n",
    "    root：构造的kd树的根节点\n",
    "    \"\"\"\n",
    "    def __init__(self,dataSet):\n",
    "        self.dataNum = 0\n",
    "        self.root = self.buildKdTree(dataSet)   ## 注意父节点的传值。\n",
    "\n",
    "    def buildKdTree(self,dataSet,  parentNode=None):\n",
    "        data = np.array(dataSet)\n",
    "        dataNum, dimNum = data.shape   # 训练集的样本数，单个数据的维数\n",
    "        if dataNum == 0:  # 如果训练集为数据，返回None\n",
    "            return None\n",
    "        varList = self.getVar(data)  # 计算各维度的方差\n",
    "        mid = dataNum // 2   # 找到中位数\n",
    "        maxVarDimIndex = varList.index(max(varList))  # 找到方差最大的维度\n",
    "        sortedDataIndex = data[:,maxVarDimIndex].argsort()  # 按照方差最大的维度进行排序\n",
    "        midDataIndex = sortedDataIndex[mid] # 找到该维度处于中间位置的数据，作为根节点\n",
    "        if dataNum == 1:  # 如果只有一个数据，那么直接返回根节点就行\n",
    "            self.dataNum = dataNum\n",
    "            return Node(val = data[midDataIndex],dim = maxVarDimIndex,left = None,right = None,parent = parentNode)\n",
    "        root = Node(data[midDataIndex],maxVarDimIndex,parent = parentNode,)\n",
    "        \"\"\"\n",
    "        划分左子树和右子树，然后递归\n",
    "        \"\"\"\n",
    "        leftDataSet =  data[sortedDataIndex[:mid]] # 注意是mid而不是不是midDataIndex\n",
    "\n",
    "        rightDataSet = data[sortedDataIndex[mid+1:]]\n",
    "        root.left = self.buildKdTree(leftDataSet,parentNode = root)\n",
    "        root.right = self.buildKdTree(rightDataSet,parentNode = root)\n",
    "        self.dataNum = dataNum  # 记录训练记得样本数\n",
    "        return root\n",
    "\n",
    "    def root(self):\n",
    "        return self.root\n",
    "    def getVar(self,data):  # 求方差函数\n",
    "        rowLen,colLen = data.shape\n",
    "        varList = []\n",
    "        for i in range(colLen):\n",
    "            varList.append(np.var(data[:,i]))\n",
    "        return varList"
   ]
  },
  {
   "cell_type": "code",
   "execution_count": 87,
   "metadata": {},
   "outputs": [],
   "source": [
    "tree = kdTree(data)"
   ]
  },
  {
   "cell_type": "code",
   "execution_count": 88,
   "metadata": {},
   "outputs": [
    {
     "data": {
      "text/plain": [
       "[array([7, 2]),\n",
       " array([5, 4]),\n",
       " array([9, 6]),\n",
       " array([2, 3]),\n",
       " array([4, 7]),\n",
       " array([8, 1])]"
      ]
     },
     "execution_count": 88,
     "metadata": {},
     "output_type": "execute_result"
    }
   ],
   "source": [
    "#层序遍历二叉树\n",
    "queue = []\n",
    "queue.append(tree.root)\n",
    "res = []\n",
    "while queue:\n",
    "    dom = queue.pop(0)\n",
    "    res.append(dom.val)\n",
    "    if dom.left:\n",
    "        queue.append(dom.left)\n",
    "    if dom.right:\n",
    "        queue.append(dom.right)\n",
    "res"
   ]
  },
  {
   "cell_type": "code",
   "execution_count": 144,
   "metadata": {},
   "outputs": [],
   "source": [
    "#求层数的函数\n",
    "def what_layer(x):\n",
    "    i = 0\n",
    "    n = 0\n",
    "    while n<=x+1:\n",
    "        i += 1\n",
    "        n = 2**i\n",
    "    return i-1"
   ]
  },
  {
   "cell_type": "code",
   "execution_count": 145,
   "metadata": {},
   "outputs": [],
   "source": [
    "#求父节点的位置的函数\n",
    "def parent_loc(x):\n",
    "    if x%2 == 1:\n",
    "        parent_loc = (x-1)/2\n",
    "    else:\n",
    "        parent_loc = (x-2)/2\n",
    "    return int(parent_loc)"
   ]
  },
  {
   "cell_type": "code",
   "execution_count": 147,
   "metadata": {},
   "outputs": [
    {
     "name": "stdout",
     "output_type": "stream",
     "text": [
      "7\n",
      "[5 4] 横线\n",
      "画(0, 4)和(7, 4)\n",
      "[9 6] 横线\n",
      "画(10, 6)和(7, 6)\n",
      "[2 3] 竖线\n",
      "画(2, 0)和(2, 4)\n",
      "[4 7] 竖线\n",
      "画(4, 10)和(4, 4)\n",
      "[8 1] 竖线\n",
      "画(8, 0)和(8, 6)\n"
     ]
    },
    {
     "data": {
      "text/plain": [
       "(0.0, 10.0)"
      ]
     },
     "execution_count": 147,
     "metadata": {},
     "output_type": "execute_result"
    },
    {
     "data": {
      "image/png": "[encoded data removed]",
      "text/plain": [
       "<Figure size 720x720 with 1 Axes>"
      ]
     },
     "metadata": {
      "needs_background": "light"
     },
     "output_type": "display_data"
    }
   ],
   "source": [
    "#画图函数，参考刘镇毅学长的代码\n",
    "plt.figure(figsize=(10,10))\n",
    "#先把所有点画一遍\n",
    "plt.scatter([i[0] for i in res], [i[1] for i in res])\n",
    "for i in range(len(res)):\n",
    "    if i == 0:#根节点，直接画竖线\n",
    "        heng = res[i][0]\n",
    "        print(heng)\n",
    "        plt.plot((heng,heng),(0,10))\n",
    "    elif what_layer(i)%2 == 1: #奇数层，画横线\n",
    "        print(res[i],\"横线\")\n",
    "        shu = res[i][1]\n",
    "        heng = res[i][0]\n",
    "        parent_heng = res[parent_loc(i)][0]\n",
    "        if heng < parent_heng:\n",
    "            plt.plot((0,parent_heng),(shu,shu))\n",
    "            print(f\"画{(0,shu)}和{(parent_heng,shu)}\")\n",
    "        else:\n",
    "            plt.plot((10,parent_heng),(shu,shu))\n",
    "            print(f\"画{(10,shu)}和{(parent_heng,shu)}\")\n",
    "            \n",
    "    else: #偶数层，画竖线\n",
    "        print(res[i],\"竖线\")\n",
    "        shu = res[i][1]\n",
    "        heng = res[i][0]\n",
    "        parent_shu = res[parent_loc(i)][1]\n",
    "        if shu < parent_shu:\n",
    "            plt.plot((heng,heng),(0,parent_shu))\n",
    "            print(f\"画{(heng,0)}和{(heng,parent_shu)}\")\n",
    "            \n",
    "        else:\n",
    "            plt.plot((heng,heng),(10,parent_shu))\n",
    "            print(f\"画{(heng,10)}和{(heng,parent_shu)}\")\n",
    "            \n",
    "            \n",
    "#     break\n",
    "plt.xlim(0,10)\n",
    "plt.ylim(0,10)"
   ]
  },
  {
   "cell_type": "code",
   "execution_count": null,
   "metadata": {},
   "outputs": [],
   "source": []
  }
 ],
 "metadata": {
  "kernelspec": {
   "display_name": "Python 3",
   "language": "python",
   "name": "python3"
  },
  "language_info": {
   "codemirror_mode": {
    "name": "ipython",
    "version": 3
   },
   "file_extension": ".py",
   "mimetype": "text/x-python",
   "name": "python",
   "nbconvert_exporter": "python",
   "pygments_lexer": "ipython3",
   "version": "3.8.5"
  }
 },
 "nbformat": 4,
 "nbformat_minor": 4
}
