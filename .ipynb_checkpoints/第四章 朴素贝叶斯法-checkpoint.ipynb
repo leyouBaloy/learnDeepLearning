{
 "cells": [
  {
   "cell_type": "markdown",
   "metadata": {},
   "source": [
    "第四章作业\n",
    "1. 编程实现例4.1\n",
    "2. 编程实现例4.2"
   ]
  },
  {
   "cell_type": "code",
   "execution_count": 21,
   "metadata": {},
   "outputs": [],
   "source": [
    "# 导入数据\n",
    "import numpy as np\n",
    "X_train = np.array([[1, 'S'], [1, 'M'], [1, 'M'], [1, 'S'],  [1, 'S'],\n",
    "               [2, 'S'], [2, 'M'], [2, 'M'], [2, 'L'],  [2, 'L'],\n",
    "               [3, 'L'], [3, 'M'], [3, 'M'], [3, 'L'],  [3, 'L']])\n",
    "Y_train = np.array([-1, -1, 1, 1, -1, -1, -1, 1, 1, 1, 1, 1, 1, 1, -1])"
   ]
  },
  {
   "cell_type": "code",
   "execution_count": 22,
   "metadata": {},
   "outputs": [],
   "source": [
    "# 特征值，相当于中间件用于耦合\n",
    "feature1 = [[\"1\", \"2\", \"3\"], [\"S\", \"M\", \"L\"]]\n",
    "feature2 = [1, -1]"
   ]
  },
  {
   "cell_type": "markdown",
   "metadata": {},
   "source": [
    "# 1.编程实现例4.1"
   ]
  },
  {
   "cell_type": "code",
   "execution_count": 23,
   "metadata": {},
   "outputs": [
    {
     "name": "stdout",
     "output_type": "stream",
     "text": [
      "先验概率为[y=1,y=-1], [0.6 0.4]\n"
     ]
    }
   ],
   "source": [
    "# 计算先验概率\n",
    "priori_probablity = np.array([np.sum(Y_train==1)/len(Y_train), np.sum(Y_train==-1)/len(Y_train)])\n",
    "print(f\"先验概率为[y=1,y=-1], {priori_probablity}\")"
   ]
  },
  {
   "cell_type": "code",
   "execution_count": 24,
   "metadata": {},
   "outputs": [],
   "source": [
    "# 计算条件概率\n",
    "# 条件概率矩阵为2x3x2\n",
    "# 第一个维度是X(1)和X(2)\n",
    "# 第二个维度是1,2,3和S,M,L\n",
    "# 第三个维度是Y=1,-1\n",
    "conditional_probablity = np.zeros([2,3,2]) #初始化条件概率矩阵\n",
    "for i in range(2):\n",
    "    for j in range(3):\n",
    "        for k in range(2):\n",
    "            fenmu = np.sum(Y_train==feature2[k]) #例如y=1的时候，分母为9\n",
    "            tiaojian = X_train[np.argwhere(Y_train==feature2[k]).reshape(-1)] #例如筛选出所有y=1的点\n",
    "            fenzi = np.sum(tiaojian[:,i]==feature1[i][j])\n",
    "            conditional_probablity[i][j][k] = fenzi/fenmu"
   ]
  },
  {
   "cell_type": "code",
   "execution_count": 25,
   "metadata": {},
   "outputs": [],
   "source": [
    "def predict(X):\n",
    "    # 对应条件矩阵的位置\n",
    "    ax1 = np.argwhere(np.array(feature1[0])==X[0])[0][0]\n",
    "    ax2 = np.argwhere(np.array(feature1[1])==X[1])[0][0]\n",
    "\n",
    "    p1 = priori_probablity[0]*conditional_probablity[0][ax1][0]*conditional_probablity[1][ax2][0]\n",
    "    p2 = priori_probablity[1]*conditional_probablity[0][ax1][1]*conditional_probablity[1][ax2][1]\n",
    "    print(f\"当y=1的可能性：{p1}\")\n",
    "    print(f\"当y=2的可能性：{p2}\")\n",
    "    "
   ]
  },
  {
   "cell_type": "code",
   "execution_count": 26,
   "metadata": {},
   "outputs": [
    {
     "name": "stdout",
     "output_type": "stream",
     "text": [
      "当y=1的可能性：0.02222222222222222\n",
      "当y=2的可能性：0.06666666666666667\n"
     ]
    }
   ],
   "source": [
    "predict([\"2\", \"S\"])"
   ]
  },
  {
   "cell_type": "markdown",
   "metadata": {},
   "source": [
    "# 编程实现例4.2"
   ]
  },
  {
   "cell_type": "code",
   "execution_count": 27,
   "metadata": {},
   "outputs": [],
   "source": [
    "lambda_ = 1 # 拉普拉斯平滑"
   ]
  },
  {
   "cell_type": "code",
   "execution_count": 28,
   "metadata": {},
   "outputs": [],
   "source": [
    "# 先验概率的贝叶斯估计\n",
    "K = len(feature2)\n",
    "priori_bayesian_estimation =  np.array([(np.sum(Y_train==1)+lambda_) / (len(Y_train)+K*lambda_), (np.sum(Y_train==-1)+lambda_) / (len(Y_train)+K*lambda_)])"
   ]
  },
  {
   "cell_type": "code",
   "execution_count": 29,
   "metadata": {},
   "outputs": [],
   "source": [
    "# 条件概率的贝叶斯估计\n",
    "S = 3\n",
    "conditional_bayesian_estimation = np.zeros([2,3,2]) #初始化条件概率矩阵\n",
    "for i in range(2):\n",
    "    for j in range(3):\n",
    "        for k in range(2):\n",
    "            fenmu = np.sum(Y_train==feature2[k]) #例如y=1的时候，分母为9\n",
    "            tiaojian = X_train[np.argwhere(Y_train==feature2[k]).reshape(-1)] #例如筛选出所有y=1的点\n",
    "            fenzi = np.sum(tiaojian[:,i]==feature1[i][j])\n",
    "            conditional_bayesian_estimation[i][j][k] = (fenzi+lambda_) / (fenmu+S*lambda_)"
   ]
  },
  {
   "cell_type": "code",
   "execution_count": 30,
   "metadata": {},
   "outputs": [],
   "source": [
    "def bayesian_estimation_predict(X):\n",
    "    ax1 = np.argwhere(np.array(feature1[0])==X[0])[0][0]\n",
    "    ax2 = np.argwhere(np.array(feature1[1])==X[1])[0][0]\n",
    "\n",
    "    p1 = priori_bayesian_estimation[0]*conditional_bayesian_estimation[0][ax1][0]*conditional_bayesian_estimation[1][ax2][0]\n",
    "    p2 = priori_bayesian_estimation[1]*conditional_bayesian_estimation[0][ax1][1]*conditional_bayesian_estimation[1][ax2][1]\n",
    "    print(f\"当y=1的可能性：{p1}\")\n",
    "    print(f\"当y=2的可能性：{p2}\")"
   ]
  },
  {
   "cell_type": "code",
   "execution_count": 31,
   "metadata": {},
   "outputs": [
    {
     "name": "stdout",
     "output_type": "stream",
     "text": [
      "当y=1的可能性：0.0326797385620915\n",
      "当y=2的可能性：0.06100217864923746\n"
     ]
    }
   ],
   "source": [
    "bayesian_estimation_predict([\"2\", \"S\"])"
   ]
  },
  {
   "cell_type": "code",
   "execution_count": null,
   "metadata": {},
   "outputs": [],
   "source": []
  }
 ],
 "metadata": {
  "kernelspec": {
   "display_name": "Python 3",
   "language": "python",
   "name": "python3"
  },
  "language_info": {
   "codemirror_mode": {
    "name": "ipython",
    "version": 3
   },
   "file_extension": ".py",
   "mimetype": "text/x-python",
   "name": "python",
   "nbconvert_exporter": "python",
   "pygments_lexer": "ipython3",
   "version": "3.8.5"
  }
 },
 "nbformat": 4,
 "nbformat_minor": 4
}
