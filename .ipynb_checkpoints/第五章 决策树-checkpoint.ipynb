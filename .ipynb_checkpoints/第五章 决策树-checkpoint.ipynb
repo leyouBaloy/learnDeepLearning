{
 "cells": [
  {
   "cell_type": "markdown",
   "metadata": {},
   "source": [
    "第五章作业\n",
    "编程实现\n",
    "1. 例5.3，ID3算法\n",
    "2. 例5.3，c4.5算法\n",
    "3. 例5.4，cart分类树\n",
    "4. 习题5.2 cart回归树\n",
    "\n",
    "可以直接run all"
   ]
  },
  {
   "cell_type": "markdown",
   "metadata": {},
   "source": [
    "# 1.例5.3，ID3算法\n",
    "参考代码：https://blog.csdn.net/GrinAndBearIt/article/details/79094079\n",
    "把很多用python的操作重构成了numpy函数"
   ]
  },
  {
   "cell_type": "code",
   "execution_count": 67,
   "metadata": {},
   "outputs": [],
   "source": [
    "import numpy as np\n",
    "dataset = np.array([['青年', '否', '否', '一般', '否'],\n",
    "               ['青年', '否', '否', '好', '否'],\n",
    "               ['青年', '是', '否', '好', '是'],\n",
    "               ['青年', '是', '是', '一般', '是'],\n",
    "               ['青年', '否', '否', '一般', '否'],\n",
    "               ['中年', '否', '否', '一般', '否'],\n",
    "               ['中年', '否', '否', '好', '否'],\n",
    "               ['中年', '是', '是', '好', '是'],\n",
    "               ['中年', '否', '是', '非常好', '是'],\n",
    "               ['中年', '否', '是', '非常好', '是'],\n",
    "               ['老年', '否', '是', '非常好', '是'],\n",
    "               ['老年', '否', '是', '好', '是'],\n",
    "               ['老年', '是', '否', '好', '是'],\n",
    "               ['老年', '是', '否', '非常好', '是'],\n",
    "               ['老年', '否', '否', '一般', '否']])\n",
    "labels = ['年龄', '有工作', '有自己的房子', '信贷情况']"
   ]
  },
  {
   "cell_type": "code",
   "execution_count": 68,
   "metadata": {},
   "outputs": [],
   "source": [
    "# 计算训练集的信息熵\n",
    "import math\n",
    "def calcInfoEntropy(dataset):\n",
    "    unique_labels = np.unique(dataset[:,-1])\n",
    "    sum_entropy = 0\n",
    "    for i in range(len(unique_labels)):\n",
    "        p = sum(dataset[:,-1]==unique_labels[i]) / len(dataset)\n",
    "        sum_entropy -= p*math.log(p, 2)\n",
    "#     print(f\"训练集的信息熵：{sum_entropy}\")\n",
    "    return sum_entropy"
   ]
  },
  {
   "cell_type": "code",
   "execution_count": 69,
   "metadata": {},
   "outputs": [],
   "source": [
    "# 根据某个特征划分数据集\n",
    "# 即截取dataset中第i个特征为value的数据\n",
    "def splitDataSet(dataset, i, value):\n",
    "    tmp = dataset[dataset[:,i]==value]\n",
    "    if i==0:\n",
    "        return tmp[:,1:]\n",
    "    elif i==dataset.shape[1]-1:\n",
    "        return tmp[:,:i]\n",
    "    else:\n",
    "        return np.hstack((tmp[:,:i],tmp[:,i+1:]))"
   ]
  },
  {
   "cell_type": "code",
   "execution_count": 70,
   "metadata": {},
   "outputs": [],
   "source": [
    "# 计算根据某个特征划分后的信息增益\n",
    "def calcDivided(dataset, i):\n",
    "    base_entropy = calcInfoEntropy(dataset)\n",
    "    unique_values = np.unique(dataset[:,i])\n",
    "    new_entropy = 0\n",
    "    for value in unique_values:\n",
    "        divided_dataset = splitDataSet(dataset, i, value)\n",
    "        new_entropy += (len(divided_dataset)/dataset.shape[0])*calcInfoEntropy(divided_dataset)\n",
    "    print(f\"信息增益{base_entropy - new_entropy}\")\n",
    "    return base_entropy - new_entropy"
   ]
  },
  {
   "cell_type": "code",
   "execution_count": 71,
   "metadata": {},
   "outputs": [],
   "source": [
    "# 寻找最大信息增益的特征\n",
    "def findBestFeatures(dataset):\n",
    "    m, n = dataset.shape\n",
    "    bestInfoDivided = 0\n",
    "    bestValue = 0\n",
    "    for i in range(n-1):\n",
    "        curInfoDivided = calcDivided(dataset, i)\n",
    "        if curInfoDivided > bestInfoDivided:\n",
    "            bestInfoDivided = curInfoDivided\n",
    "            bestValue = i\n",
    "    return bestValue"
   ]
  },
  {
   "cell_type": "code",
   "execution_count": 72,
   "metadata": {},
   "outputs": [],
   "source": [
    "def maxResult(resultList):\n",
    "    calcNumDict=dict([(np.sum(resultList==result),result) for result in resultList])\n",
    "    return calcNumDict[max(calcNumDict.keys())]"
   ]
  },
  {
   "cell_type": "code",
   "execution_count": 73,
   "metadata": {},
   "outputs": [],
   "source": [
    "def createTree(dataset, labels):\n",
    "    resultList = dataset[:,-1]\n",
    "    if dataset.shape[0] == 1:    #如果只剩一个元素\n",
    "        return maxResult(resultList)\n",
    "    if sum(resultList==resultList[0]) == resultList.shape[0]:   #如果剩下的全属于同一类\n",
    "        return resultList[0]\n",
    "    bestFeature = findBestFeatures(dataset)\n",
    "#     print(f\"bestFeature:{bestFeature}\")\n",
    "    bestLabel = labels[bestFeature]\n",
    "    tree = {bestLabel:{}}\n",
    "    print(f\"最佳特征:{bestLabel}\")\n",
    "    del(labels[bestFeature])\n",
    "    uniqueValues = set([data[bestFeature] for data in dataset])\n",
    "    for value in uniqueValues:\n",
    "        returnDataSet = splitDataSet(dataset, bestFeature, value)\n",
    "        subLabels = labels[:]\n",
    "        subTree = createTree(returnDataSet, subLabels)\n",
    "        tree[bestLabel][value] = subTree\n",
    "    return tree"
   ]
  },
  {
   "cell_type": "code",
   "execution_count": 74,
   "metadata": {},
   "outputs": [
    {
     "name": "stdout",
     "output_type": "stream",
     "text": [
      "信息增益0.08300749985576883\n",
      "信息增益0.32365019815155627\n",
      "信息增益0.4199730940219749\n",
      "信息增益0.36298956253708536\n",
      "最佳特征:有自己的房子\n",
      "信息增益0.2516291673878229\n",
      "信息增益0.9182958340544896\n",
      "信息增益0.47385138961004514\n",
      "最佳特征:有工作\n",
      "{'有自己的房子': {'否': {'有工作': {'否': '否', '是': '是'}}, '是': '是'}}\n"
     ]
    }
   ],
   "source": [
    "print(createTree(dataset, labels))"
   ]
  },
  {
   "cell_type": "markdown",
   "metadata": {},
   "source": [
    "# 2.例5.3，c4.5算法"
   ]
  },
  {
   "cell_type": "code",
   "execution_count": 75,
   "metadata": {},
   "outputs": [],
   "source": [
    "import numpy as np\n",
    "dataset = np.array([['青年', '否', '否', '一般', '否'],\n",
    "               ['青年', '否', '否', '好', '否'],\n",
    "               ['青年', '是', '否', '好', '是'],\n",
    "               ['青年', '是', '是', '一般', '是'],\n",
    "               ['青年', '否', '否', '一般', '否'],\n",
    "               ['中年', '否', '否', '一般', '否'],\n",
    "               ['中年', '否', '否', '好', '否'],\n",
    "               ['中年', '是', '是', '好', '是'],\n",
    "               ['中年', '否', '是', '非常好', '是'],\n",
    "               ['中年', '否', '是', '非常好', '是'],\n",
    "               ['老年', '否', '是', '非常好', '是'],\n",
    "               ['老年', '否', '是', '好', '是'],\n",
    "               ['老年', '是', '否', '好', '是'],\n",
    "               ['老年', '是', '否', '非常好', '是'],\n",
    "               ['老年', '否', '否', '一般', '否']])\n",
    "labels = ['年龄', '有工作', '有自己的房子', '信贷情况']"
   ]
  },
  {
   "cell_type": "code",
   "execution_count": 76,
   "metadata": {},
   "outputs": [],
   "source": [
    "# 将信息增益换成信息增益比\n",
    "def calcDivided(dataset, i):\n",
    "    base_entropy = calcInfoEntropy(dataset)\n",
    "    unique_values = np.unique(dataset[:,i])\n",
    "    new_entropy = 0\n",
    "    for value in unique_values:\n",
    "        divided_dataset = splitDataSet(dataset, i, value)\n",
    "        new_entropy += (len(divided_dataset)/dataset.shape[0])*calcInfoEntropy(divided_dataset)\n",
    "    print(f\"信息增益{new_entropy/base_entropy}\")\n",
    "    return new_entropy/base_entropy"
   ]
  },
  {
   "cell_type": "code",
   "execution_count": 77,
   "metadata": {},
   "outputs": [
    {
     "name": "stdout",
     "output_type": "stream",
     "text": [
      "信息增益0.9145090385341493\n",
      "信息增益0.6666666666666666\n",
      "信息增益0.5674619322336875\n",
      "信息增益0.6261503266899411\n",
      "最佳特征:年龄\n",
      "信息增益0.7632027404594346\n",
      "信息增益0.7632027404594346\n",
      "信息增益0.0\n",
      "最佳特征:有工作\n",
      "信息增益0.0\n",
      "信息增益0.0\n",
      "最佳特征:有自己的房子\n",
      "信息增益0.0\n",
      "信息增益0.6684402927131713\n",
      "信息增益0.979429340549307\n",
      "最佳特征:信贷情况\n",
      "信息增益0.0\n",
      "信息增益0.0\n",
      "最佳特征:有工作\n",
      "信息增益0.0\n",
      "信息增益1.0\n",
      "最佳特征:有自己的房子\n",
      "信息增益0.0\n",
      "最佳特征:有工作\n",
      "信息增益0.8239348166312392\n",
      "信息增益0.0\n",
      "信息增益0.4119674083156196\n",
      "最佳特征:有工作\n",
      "信息增益0.0\n",
      "信息增益0.0\n",
      "最佳特征:有自己的房子\n",
      "{'年龄': {'老年': {'有工作': {'否': {'有自己的房子': {'否': '否', '是': '是'}}, '是': '是'}}, '青年': {'信贷情况': {'一般': {'有工作': {'否': '否', '是': '是'}}, '好': {'有自己的房子': {'否': {'有工作': {'否': '否', '是': '是'}}}}}}, '中年': {'有工作': {'否': {'有自己的房子': {'否': '否', '是': '是'}}, '是': '是'}}}}\n"
     ]
    }
   ],
   "source": [
    "print(createTree(dataset, labels))"
   ]
  },
  {
   "cell_type": "markdown",
   "metadata": {},
   "source": [
    "# 3.例5.4，cart分类树"
   ]
  },
  {
   "cell_type": "code",
   "execution_count": 78,
   "metadata": {},
   "outputs": [],
   "source": [
    "import numpy as np\n",
    "dataset = np.array([['青年', '否', '否', '一般', '否'],\n",
    "               ['青年', '否', '否', '好', '否'],\n",
    "               ['青年', '是', '否', '好', '是'],\n",
    "               ['青年', '是', '是', '一般', '是'],\n",
    "               ['青年', '否', '否', '一般', '否'],\n",
    "               ['中年', '否', '否', '一般', '否'],\n",
    "               ['中年', '否', '否', '好', '否'],\n",
    "               ['中年', '是', '是', '好', '是'],\n",
    "               ['中年', '否', '是', '非常好', '是'],\n",
    "               ['中年', '否', '是', '非常好', '是'],\n",
    "               ['老年', '否', '是', '非常好', '是'],\n",
    "               ['老年', '否', '是', '好', '是'],\n",
    "               ['老年', '是', '否', '好', '是'],\n",
    "               ['老年', '是', '否', '非常好', '是'],\n",
    "               ['老年', '否', '否', '一般', '否']])\n",
    "labels = ['年龄', '有工作', '有自己的房子', '信贷情况']"
   ]
  },
  {
   "cell_type": "code",
   "execution_count": 79,
   "metadata": {},
   "outputs": [],
   "source": [
    "# 基尼指数\n",
    "def gini(dataset, i):\n",
    "    num = dataset.shape[0]\n",
    "    classcount = {}\n",
    "    for data in dataset[:,-1]:\n",
    "        if data not in classcount.keys():\n",
    "            classcount[data] = 0\n",
    "        classcount[data] += 1\n",
    "    gini = 1.0\n",
    "    for key in classcount:\n",
    "        p_1 = float(classcount[key])/num\n",
    "        p_2 = -(p_1**2)\n",
    "        gini += p_2\n",
    "        print(\"基尼指数：\",gini)\n",
    "    return gini"
   ]
  },
  {
   "cell_type": "code",
   "execution_count": 80,
   "metadata": {},
   "outputs": [],
   "source": [
    "# 寻找最小基尼指数的特征\n",
    "def findBestFeatures(dataset):\n",
    "    m, n = dataset.shape\n",
    "    bestInfoDivided = 0\n",
    "    bestValue = 0\n",
    "    for i in range(n-1):\n",
    "        curInfoDivided = gini(dataset, i)\n",
    "        if curInfoDivided < bestInfoDivided:\n",
    "            bestInfoDivided = curInfoDivided\n",
    "            bestValue = i\n",
    "    return bestValue"
   ]
  },
  {
   "cell_type": "code",
   "execution_count": 81,
   "metadata": {},
   "outputs": [
    {
     "name": "stdout",
     "output_type": "stream",
     "text": [
      "基尼指数： 0.84\n",
      "基尼指数： 0.48\n",
      "基尼指数： 0.84\n",
      "基尼指数： 0.48\n",
      "基尼指数： 0.84\n",
      "基尼指数： 0.48\n",
      "基尼指数： 0.84\n",
      "基尼指数： 0.48\n",
      "最佳特征:年龄\n",
      "基尼指数： 0.3599999999999999\n",
      "基尼指数： 0.31999999999999984\n",
      "基尼指数： 0.3599999999999999\n",
      "基尼指数： 0.31999999999999984\n",
      "基尼指数： 0.3599999999999999\n",
      "基尼指数： 0.31999999999999984\n",
      "最佳特征:有工作\n",
      "基尼指数： 0.5555555555555556\n",
      "基尼指数： 0.4444444444444445\n",
      "基尼指数： 0.5555555555555556\n",
      "基尼指数： 0.4444444444444445\n",
      "最佳特征:有自己的房子\n",
      "基尼指数： 0.64\n",
      "基尼指数： 0.48\n",
      "基尼指数： 0.64\n",
      "基尼指数： 0.48\n",
      "基尼指数： 0.64\n",
      "基尼指数： 0.48\n",
      "最佳特征:有工作\n",
      "基尼指数： 0.84\n",
      "基尼指数： 0.48\n",
      "基尼指数： 0.84\n",
      "基尼指数： 0.48\n",
      "基尼指数： 0.84\n",
      "基尼指数： 0.48\n",
      "最佳特征:有工作\n",
      "基尼指数： 0.75\n",
      "基尼指数： 0.5\n",
      "基尼指数： 0.75\n",
      "基尼指数： 0.5\n",
      "最佳特征:有自己的房子\n",
      "{'年龄': {'老年': {'有工作': {'否': {'有自己的房子': {'否': '否', '是': '是'}}, '是': '是'}}, '青年': {'有工作': {'否': '否', '是': '是'}}, '中年': {'有工作': {'否': {'有自己的房子': {'否': '否', '是': '是'}}, '是': '是'}}}}\n"
     ]
    }
   ],
   "source": [
    "print(createTree(dataset, labels))"
   ]
  },
  {
   "cell_type": "markdown",
   "metadata": {},
   "source": [
    "# 习题5.2 cart回归树"
   ]
  },
  {
   "cell_type": "code",
   "execution_count": 91,
   "metadata": {},
   "outputs": [],
   "source": [
    "y = np.array([4.5, 4.75, 4.91, 5.34, 5.80, 7.05, 7.90, 8.23, 8.70, 9.00])"
   ]
  },
  {
   "cell_type": "code",
   "execution_count": 92,
   "metadata": {},
   "outputs": [],
   "source": [
    "def average(x):\n",
    "    if len(x)==0:\n",
    "        return 0\n",
    "    else:   \n",
    "        sum = 0\n",
    "        for i in x:\n",
    "            sum += x\n",
    "        return sum/len(x)"
   ]
  },
  {
   "cell_type": "code",
   "execution_count": 107,
   "metadata": {},
   "outputs": [
    {
     "name": "stdout",
     "output_type": "stream",
     "text": [
      "切分点：5---左子树平均值：5.0600000000000005---右子树平均值：8.175999999999998\n",
      "切分点：3---左子树平均值：4.72---右子树平均值：5.57\n",
      "切分点：1---左子树平均值：4.5---右子树平均值：4.83\n",
      "切分点：7---左子树平均值：7.475---右子树平均值：8.643333333333333\n",
      "切分点：8---左子树平均值：8.23---右子树平均值：8.85\n"
     ]
    }
   ],
   "source": [
    "def CART(start, end):\n",
    "    if end-start > 1:\n",
    "        result = []\n",
    "        for i in range(start, end+1):\n",
    "            c1 = [np.average(y[start:i+1])]\n",
    "            c2 = [np.average(y[i:end+1])]\n",
    "            y1 = y[start:i+1]\n",
    "            y2 = y[i+1:end+1]\n",
    "            result.append((np.sum((y1-c1)**2) + np.sum((y2-c2)**2)))#计算平方误差损失\n",
    "        index1 = np.argmin(result) + start\n",
    "        print(f\"切分点：{index1+1}---左子树平均值：{np.average(y[start:index1+1])}---右子树平均值：{np.average(y[index1+1:end+1])}\")\n",
    "        CART(start, index1)\n",
    "        CART(index1+1, end)\n",
    "\n",
    "CART(0, 9)\n",
    "    "
   ]
  },
  {
   "cell_type": "code",
   "execution_count": null,
   "metadata": {},
   "outputs": [],
   "source": []
  }
 ],
 "metadata": {
  "kernelspec": {
   "display_name": "Python 3",
   "language": "python",
   "name": "python3"
  },
  "language_info": {
   "codemirror_mode": {
    "name": "ipython",
    "version": 3
   },
   "file_extension": ".py",
   "mimetype": "text/x-python",
   "name": "python",
   "nbconvert_exporter": "python",
   "pygments_lexer": "ipython3",
   "version": "3.8.5"
  }
 },
 "nbformat": 4,
 "nbformat_minor": 4
}
