{
 "cells": [
  {
   "cell_type": "code",
   "execution_count": 63,
   "metadata": {},
   "outputs": [],
   "source": [
    "import numpy as np\n",
    "import matplotlib.pyplot as plt\n",
    "import numpy as np\n",
    "%matplotlib inline"
   ]
  },
  {
   "cell_type": "code",
   "execution_count": 64,
   "metadata": {},
   "outputs": [
    {
     "name": "stdout",
     "output_type": "stream",
     "text": [
      "[[3 3]\n",
      " [4 3]\n",
      " [1 1]]\n",
      "[ 1  1 -1]\n"
     ]
    }
   ],
   "source": [
    "with open(\"input.csv\") as f:\n",
    "    lines = f.readlines()\n",
    "    X = np.array([[int(i) for i in j.split(\",\")[:-1]] for j in lines])\n",
    "    Y = np.array([int(i.replace(\"\\n\",\"\").split(\",\")[-1]) for i in lines])\n",
    "print(X)\n",
    "print(Y)"
   ]
  },
  {
   "cell_type": "code",
   "execution_count": 65,
   "metadata": {},
   "outputs": [],
   "source": [
    "def draw(X, Y, weight, b):\n",
    "    plt.figure()\n",
    "    plt.cla()\n",
    "    plt.xlim(0, np.max(X.T[0]) + 1)\n",
    "    plt.ylim(0, np.max(X.T[1]) + 1)\n",
    "    plt.scatter(X.T[0], X.T[1], c=Y)\n",
    "    if True in list(weight == 0):\n",
    "            plt.plot(0, 0)\n",
    "    else:\n",
    "        x1 = -b / weight[0]\n",
    "        x2 = -b / weight[1]\n",
    "        plt.plot([x1, 0], [0, x2])\n",
    "    plt.pause(0.01)"
   ]
  },
  {
   "cell_type": "code",
   "execution_count": 66,
   "metadata": {},
   "outputs": [],
   "source": [
    "def raw(X, Y, eta=1):  # 感知机的原始形式\n",
    "    weight = np.zeros(X.shape[1])  # 初始化weight,b\n",
    "    b = 0\n",
    "    number = 0  # 记录训练次数\n",
    "    mistake = True  # mistake是变量用来说明分类是否有错误\n",
    "    while mistake is True:  # 当有错时\n",
    "        mistake = False  # 开始下一轮纠错前需要将mistake变为true，一来判断这一轮是否有错误\n",
    "        for index in range(X.shape[0]):  # 循环开始\n",
    "            if Y[index] * (weight @ X[index] + b) <= 0:  # 错误判断条件\n",
    "                weight += eta * Y[index] * X[index]  # 进行更新weight，b\n",
    "                b += eta * Y[index]\n",
    "                number += 1\n",
    "                print(f\"误分类点:{X[index]}，weignt:{weight}，b:{b}，w*x+b:{weight[0]}x(1)+{weight[1]}x(2)+{b}\")\n",
    "                draw(X, Y, weight, b)\n",
    "                mistake = True  # 此轮检查出错误，表明mistake为true，进行下列一轮\n",
    "                break  # 找出第一个错误后调出循环\n",
    "    return weight, b  # 返回值"
   ]
  },
  {
   "cell_type": "code",
   "execution_count": 67,
   "metadata": {},
   "outputs": [],
   "source": [
    "def dual(X, Y, eta=1):#感知机对偶形式\n",
    "    Gram = np.dot(X, X.T)\n",
    "    alpha = np.zeros(X.shape[0])\n",
    "    b = 0\n",
    "    mistake = True\n",
    "    while mistake is True:\n",
    "        mistake = False\n",
    "        for index in range(X.shape[0]):\n",
    "            if Y[index] * (alpha * Y @ Gram[index] + b) <= 0:\n",
    "                alpha[index] += eta\n",
    "                b += eta * Y[index]\n",
    "                print(f\"alpha:{alpha}，b:{b}\")\n",
    "                mistake = True\n",
    "                break\n",
    "    weight = Y * alpha @ X\n",
    "    return weight, b"
   ]
  },
  {
   "cell_type": "code",
   "execution_count": 68,
   "metadata": {},
   "outputs": [
    {
     "name": "stdout",
     "output_type": "stream",
     "text": [
      "误分类点:[3 3]，weignt:[3. 3.]，b:1，w*x+b:3.0x(1)+3.0x(2)+1\n"
     ]
    },
    {
     "data": {
      "image/png": "[encoded data removed]",
      "text/plain": [
       "<Figure size 432x288 with 1 Axes>"
      ]
     },
     "metadata": {
      "needs_background": "light"
     },
     "output_type": "display_data"
    },
    {
     "name": "stdout",
     "output_type": "stream",
     "text": [
      "误分类点:[1 1]，weignt:[2. 2.]，b:0，w*x+b:2.0x(1)+2.0x(2)+0\n"
     ]
    },
    {
     "data": {
      "image/png": "[encoded data removed]",
      "text/plain": [
       "<Figure size 432x288 with 1 Axes>"
      ]
     },
     "metadata": {
      "needs_background": "light"
     },
     "output_type": "display_data"
    },
    {
     "name": "stdout",
     "output_type": "stream",
     "text": [
      "误分类点:[1 1]，weignt:[1. 1.]，b:-1，w*x+b:1.0x(1)+1.0x(2)+-1\n"
     ]
    },
    {
     "data": {
      "image/png": "[encoded data removed]",
      "text/plain": [
       "<Figure size 432x288 with 1 Axes>"
      ]
     },
     "metadata": {
      "needs_background": "light"
     },
     "output_type": "display_data"
    },
    {
     "name": "stdout",
     "output_type": "stream",
     "text": [
      "误分类点:[1 1]，weignt:[0. 0.]，b:-2，w*x+b:0.0x(1)+0.0x(2)+-2\n"
     ]
    },
    {
     "data": {
      "image/png": "[encoded data removed]",
      "text/plain": [
       "<Figure size 432x288 with 1 Axes>"
      ]
     },
     "metadata": {
      "needs_background": "light"
     },
     "output_type": "display_data"
    },
    {
     "name": "stdout",
     "output_type": "stream",
     "text": [
      "误分类点:[3 3]，weignt:[3. 3.]，b:-1，w*x+b:3.0x(1)+3.0x(2)+-1\n"
     ]
    },
    {
     "data": {
      "image/png": "[encoded data removed]",
      "text/plain": [
       "<Figure size 432x288 with 1 Axes>"
      ]
     },
     "metadata": {
      "needs_background": "light"
     },
     "output_type": "display_data"
    },
    {
     "name": "stdout",
     "output_type": "stream",
     "text": [
      "误分类点:[1 1]，weignt:[2. 2.]，b:-2，w*x+b:2.0x(1)+2.0x(2)+-2\n"
     ]
    },
    {
     "data": {
      "image/png": "[encoded data removed]",
      "text/plain": [
       "<Figure size 432x288 with 1 Axes>"
      ]
     },
     "metadata": {
      "needs_background": "light"
     },
     "output_type": "display_data"
    },
    {
     "name": "stdout",
     "output_type": "stream",
     "text": [
      "误分类点:[1 1]，weignt:[1. 1.]，b:-3，w*x+b:1.0x(1)+1.0x(2)+-3\n"
     ]
    },
    {
     "data": {
      "image/png": "[encoded data removed]",
      "text/plain": [
       "<Figure size 432x288 with 1 Axes>"
      ]
     },
     "metadata": {
      "needs_background": "light"
     },
     "output_type": "display_data"
    },
    {
     "data": {
      "text/plain": [
       "(array([1., 1.]), -3)"
      ]
     },
     "execution_count": 68,
     "metadata": {},
     "output_type": "execute_result"
    }
   ],
   "source": [
    "raw(X, Y, 1)"
   ]
  },
  {
   "cell_type": "code",
   "execution_count": 69,
   "metadata": {},
   "outputs": [
    {
     "name": "stdout",
     "output_type": "stream",
     "text": [
      "alpha:[1. 0. 0.]，b:1\n",
      "alpha:[1. 0. 1.]，b:0\n",
      "alpha:[1. 0. 2.]，b:-1\n",
      "alpha:[1. 0. 3.]，b:-2\n",
      "alpha:[2. 0. 3.]，b:-1\n",
      "alpha:[2. 0. 4.]，b:-2\n",
      "alpha:[2. 0. 5.]，b:-3\n"
     ]
    }
   ],
   "source": [
    "wopt,bopt = dual(X, Y, 1)"
   ]
  },
  {
   "cell_type": "code",
   "execution_count": 70,
   "metadata": {},
   "outputs": [
    {
     "name": "stdout",
     "output_type": "stream",
     "text": [
      "r:1.0，R:5.0，(R/r)的平方:25.0\n"
     ]
    }
   ],
   "source": [
    "R = max(list(map(lambda x:np.linalg.norm(x, ord=None, axis=None, keepdims=False),X)))\n",
    "rs = []\n",
    "for i in range(len(X)):\n",
    "    rt = Y[i]*(np.vdot(wopt,X[i])+bopt)\n",
    "    rs.append(rt)\n",
    "r = min(rs)\n",
    "\n",
    "print(f\"r:{r}，R:{R}，(R/r)的平方:{(R/r)**2}\")"
   ]
  },
  {
   "cell_type": "code",
   "execution_count": null,
   "metadata": {},
   "outputs": [],
   "source": []
  }
 ],
 "metadata": {
  "kernelspec": {
   "display_name": "Python 3",
   "language": "python",
   "name": "python3"
  },
  "language_info": {
   "codemirror_mode": {
    "name": "ipython",
    "version": 3
   },
   "file_extension": ".py",
   "mimetype": "text/x-python",
   "name": "python",
   "nbconvert_exporter": "python",
   "pygments_lexer": "ipython3",
   "version": "3.8.5"
  }
 },
 "nbformat": 4,
 "nbformat_minor": 4
}
